{
 "cells": [
  {
   "cell_type": "code",
   "execution_count": 38,
   "metadata": {},
   "outputs": [],
   "source": [
    "from neural_priors.utils.data import get_all_subject_ids, Subject, get_all_behavioral_data\n",
    "import pandas as pd\n",
    "from tqdm import tqdm\n",
    "from tqdm.contrib.itertools import product"
   ]
  },
  {
   "cell_type": "code",
   "execution_count": 39,
   "metadata": {},
   "outputs": [
    {
     "data": {
      "application/vnd.jupyter.widget-view+json": {
       "model_id": "9019893d62e242c6a5888b07d420c6a4",
       "version_major": 2,
       "version_minor": 0
      },
      "text/plain": [
       "  0%|          | 0/62 [00:00<?, ?it/s]"
      ]
     },
     "metadata": {},
     "output_type": "display_data"
    },
    {
     "name": "stdout",
     "output_type": "stream",
     "text": [
      "Error with 10: File not found: '/data/ds-neuralpriors/derivatives/encoding_model.cv.denoise.wprf.range_wide/sub-10/func/sub-10_desc-cvr2.optim_space-T1w_pars.nii.gz'\n",
      "Error with 12: File not found: '/data/ds-neuralpriors/derivatives/encoding_model.cv.denoise.wprf.range_narrow/sub-12/func/sub-12_desc-cvr2.optim_space-T1w_pars.nii.gz'\n",
      "Error with 12: File not found: '/data/ds-neuralpriors/derivatives/encoding_model.cv.denoise.wprf.range_wide/sub-12/func/sub-12_desc-cvr2.optim_space-T1w_pars.nii.gz'\n",
      "Error with 13: File not found: '/data/ds-neuralpriors/derivatives/encoding_model.cv.denoise.wprf.range_narrow/sub-13/func/sub-13_desc-cvr2.optim_space-T1w_pars.nii.gz'\n",
      "Error with 13: File not found: '/data/ds-neuralpriors/derivatives/encoding_model.cv.denoise.wprf.range_wide/sub-13/func/sub-13_desc-cvr2.optim_space-T1w_pars.nii.gz'\n",
      "Error with 14: File not found: '/data/ds-neuralpriors/derivatives/encoding_model.cv.denoise.wprf.range_narrow/sub-14/func/sub-14_desc-cvr2.optim_space-T1w_pars.nii.gz'\n",
      "Error with 14: File not found: '/data/ds-neuralpriors/derivatives/encoding_model.cv.denoise.wprf.range_wide/sub-14/func/sub-14_desc-cvr2.optim_space-T1w_pars.nii.gz'\n",
      "Error with 15: File not found: '/data/ds-neuralpriors/derivatives/encoding_model.cv.denoise.wprf.range_narrow/sub-15/func/sub-15_desc-cvr2.optim_space-T1w_pars.nii.gz'\n",
      "Error with 15: File not found: '/data/ds-neuralpriors/derivatives/encoding_model.cv.denoise.wprf.range_wide/sub-15/func/sub-15_desc-cvr2.optim_space-T1w_pars.nii.gz'\n",
      "Error with 16: File not found: '/data/ds-neuralpriors/derivatives/encoding_model.cv.denoise.wprf.range_narrow/sub-16/func/sub-16_desc-cvr2.optim_space-T1w_pars.nii.gz'\n",
      "Error with 16: File not found: '/data/ds-neuralpriors/derivatives/encoding_model.cv.denoise.wprf.range_wide/sub-16/func/sub-16_desc-cvr2.optim_space-T1w_pars.nii.gz'\n",
      "Error with 17: File not found: '/data/ds-neuralpriors/derivatives/encoding_model.cv.denoise.wprf.range_narrow/sub-17/func/sub-17_desc-cvr2.optim_space-T1w_pars.nii.gz'\n",
      "Error with 17: File not found: '/data/ds-neuralpriors/derivatives/encoding_model.cv.denoise.wprf.range_wide/sub-17/func/sub-17_desc-cvr2.optim_space-T1w_pars.nii.gz'\n",
      "Error with 18: File not found: '/data/ds-neuralpriors/derivatives/encoding_model.cv.denoise.wprf.range_narrow/sub-18/func/sub-18_desc-cvr2.optim_space-T1w_pars.nii.gz'\n",
      "Error with 18: File not found: '/data/ds-neuralpriors/derivatives/encoding_model.cv.denoise.wprf.range_wide/sub-18/func/sub-18_desc-cvr2.optim_space-T1w_pars.nii.gz'\n",
      "Error with 19: File not found: '/data/ds-neuralpriors/derivatives/encoding_model.cv.denoise.wprf.range_narrow/sub-19/func/sub-19_desc-cvr2.optim_space-T1w_pars.nii.gz'\n",
      "Error with 19: File not found: '/data/ds-neuralpriors/derivatives/encoding_model.cv.denoise.wprf.range_wide/sub-19/func/sub-19_desc-cvr2.optim_space-T1w_pars.nii.gz'\n",
      "Error with 20: File not found: '/data/ds-neuralpriors/derivatives/encoding_model.cv.denoise.wprf.range_narrow/sub-20/func/sub-20_desc-cvr2.optim_space-T1w_pars.nii.gz'\n",
      "Error with 20: File not found: '/data/ds-neuralpriors/derivatives/encoding_model.cv.denoise.wprf.range_wide/sub-20/func/sub-20_desc-cvr2.optim_space-T1w_pars.nii.gz'\n",
      "Error with 21: File not found: '/data/ds-neuralpriors/derivatives/encoding_model.cv.denoise.wprf.range_narrow/sub-21/func/sub-21_desc-cvr2.optim_space-T1w_pars.nii.gz'\n",
      "Error with 21: File not found: '/data/ds-neuralpriors/derivatives/encoding_model.cv.denoise.wprf.range_wide/sub-21/func/sub-21_desc-cvr2.optim_space-T1w_pars.nii.gz'\n",
      "Error with 22: File not found: '/data/ds-neuralpriors/derivatives/encoding_model.cv.denoise.wprf.range_narrow/sub-22/func/sub-22_desc-cvr2.optim_space-T1w_pars.nii.gz'\n",
      "Error with 22: File not found: '/data/ds-neuralpriors/derivatives/encoding_model.cv.denoise.wprf.range_wide/sub-22/func/sub-22_desc-cvr2.optim_space-T1w_pars.nii.gz'\n",
      "Error with 24: File not found: '/data/ds-neuralpriors/derivatives/encoding_model.cv.denoise.wprf.range_narrow/sub-24/func/sub-24_desc-cvr2.optim_space-T1w_pars.nii.gz'\n",
      "Error with 24: File not found: '/data/ds-neuralpriors/derivatives/encoding_model.cv.denoise.wprf.range_wide/sub-24/func/sub-24_desc-cvr2.optim_space-T1w_pars.nii.gz'\n",
      "Error with 25: File not found: '/data/ds-neuralpriors/derivatives/fmriprep/sub-25/ses-1/func/sub-25_ses-1_task-task_run-1_space-T1w_desc-brain_mask.nii.gz'\n",
      "Error with 25: File not found: '/data/ds-neuralpriors/derivatives/fmriprep/sub-25/ses-1/func/sub-25_ses-1_task-task_run-1_space-T1w_desc-brain_mask.nii.gz'\n",
      "Error with 26: File not found: '/data/ds-neuralpriors/derivatives/fmriprep/sub-26/ses-1/func/sub-26_ses-1_task-task_run-1_space-T1w_desc-brain_mask.nii.gz'\n",
      "Error with 26: File not found: '/data/ds-neuralpriors/derivatives/fmriprep/sub-26/ses-1/func/sub-26_ses-1_task-task_run-1_space-T1w_desc-brain_mask.nii.gz'\n",
      "Error with 27: File not found: '/data/ds-neuralpriors/derivatives/fmriprep/sub-27/ses-1/func/sub-27_ses-1_task-task_run-1_space-T1w_desc-brain_mask.nii.gz'\n",
      "Error with 27: File not found: '/data/ds-neuralpriors/derivatives/fmriprep/sub-27/ses-1/func/sub-27_ses-1_task-task_run-1_space-T1w_desc-brain_mask.nii.gz'\n",
      "Error with 28: File not found: '/data/ds-neuralpriors/derivatives/fmriprep/sub-28/ses-1/func/sub-28_ses-1_task-task_run-1_space-T1w_desc-brain_mask.nii.gz'\n",
      "Error with 28: File not found: '/data/ds-neuralpriors/derivatives/fmriprep/sub-28/ses-1/func/sub-28_ses-1_task-task_run-1_space-T1w_desc-brain_mask.nii.gz'\n",
      "Error with 29: File not found: '/data/ds-neuralpriors/derivatives/fmriprep/sub-29/ses-1/func/sub-29_ses-1_task-task_run-1_space-T1w_desc-brain_mask.nii.gz'\n",
      "Error with 29: File not found: '/data/ds-neuralpriors/derivatives/fmriprep/sub-29/ses-1/func/sub-29_ses-1_task-task_run-1_space-T1w_desc-brain_mask.nii.gz'\n",
      "Error with 30: File not found: '/data/ds-neuralpriors/derivatives/fmriprep/sub-30/ses-1/func/sub-30_ses-1_task-task_run-1_space-T1w_desc-brain_mask.nii.gz'\n",
      "Error with 30: File not found: '/data/ds-neuralpriors/derivatives/fmriprep/sub-30/ses-1/func/sub-30_ses-1_task-task_run-1_space-T1w_desc-brain_mask.nii.gz'\n",
      "Error with 32: File not found: '/data/ds-neuralpriors/derivatives/fmriprep/sub-32/ses-1/func/sub-32_ses-1_task-task_run-1_space-T1w_desc-brain_mask.nii.gz'\n",
      "Error with 32: File not found: '/data/ds-neuralpriors/derivatives/fmriprep/sub-32/ses-1/func/sub-32_ses-1_task-task_run-1_space-T1w_desc-brain_mask.nii.gz'\n",
      "Error with 33: File not found: '/data/ds-neuralpriors/derivatives/fmriprep/sub-33/ses-1/func/sub-33_ses-1_task-task_run-1_space-T1w_desc-brain_mask.nii.gz'\n",
      "Error with 33: File not found: '/data/ds-neuralpriors/derivatives/fmriprep/sub-33/ses-1/func/sub-33_ses-1_task-task_run-1_space-T1w_desc-brain_mask.nii.gz'\n",
      "Error with 34: File not found: '/data/ds-neuralpriors/derivatives/fmriprep/sub-34/ses-1/func/sub-34_ses-1_task-task_run-1_space-T1w_desc-brain_mask.nii.gz'\n",
      "Error with 34: File not found: '/data/ds-neuralpriors/derivatives/fmriprep/sub-34/ses-1/func/sub-34_ses-1_task-task_run-1_space-T1w_desc-brain_mask.nii.gz'\n"
     ]
    }
   ],
   "source": [
    "\n",
    "\n",
    "\n",
    "results = []\n",
    "keys = []\n",
    "\n",
    "for subject_id, range_n in product(get_all_subject_ids(), ['narrow', 'wide']):\n",
    "    try:\n",
    "        sub = Subject(subject_id)\n",
    "        pars_wprf = sub.get_prf_parameters_volume(None, smoothed=False, wprf=True, cross_validated=False, roi='NPCr', range_n=range_n)\n",
    "\n",
    "        results.append(pars_wprf)\n",
    "        keys.append((subject_id, 'wprf', range_n))\n",
    "\n",
    "        pars_prf = sub.get_prf_parameters_volume(None, smoothed=False, wprf=False, cross_validated=False, roi='NPCr', range_n=range_n)\n",
    "        results.append(pars_prf[['cvr2']])\n",
    "        keys.append((subject_id, 'prf', range_n))\n",
    "    except Exception as e:\n",
    "        print(f'Error with {subject_id}: {e}')\n",
    "\n",
    "results = pd.concat(results, keys=keys, names=['subject', 'model', 'range'], axis=1)"
   ]
  },
  {
   "cell_type": "code",
   "execution_count": 40,
   "metadata": {},
   "outputs": [
    {
     "data": {
      "text/plain": [
       "range   parameter\n",
       "narrow  cvr2         0.350801\n",
       "wide    cvr2         0.432182\n",
       "dtype: float64"
      ]
     },
     "execution_count": 40,
     "metadata": {},
     "output_type": "execute_result"
    }
   ],
   "source": [
    "tmp = results.stack('subject')\n",
    "\n",
    "\n",
    "tmp = tmp[(tmp > 0.0).any(axis=1)]\n",
    "\n",
    "(tmp['wprf'] < tmp['prf']).mean()"
   ]
  },
  {
   "cell_type": "code",
   "execution_count": 41,
   "metadata": {},
   "outputs": [
    {
     "data": {
      "text/html": [
       "<div>\n",
       "<style scoped>\n",
       "    .dataframe tbody tr th:only-of-type {\n",
       "        vertical-align: middle;\n",
       "    }\n",
       "\n",
       "    .dataframe tbody tr th {\n",
       "        vertical-align: top;\n",
       "    }\n",
       "\n",
       "    .dataframe thead tr th {\n",
       "        text-align: left;\n",
       "    }\n",
       "\n",
       "    .dataframe thead tr:last-of-type th {\n",
       "        text-align: right;\n",
       "    }\n",
       "</style>\n",
       "<table border=\"1\" class=\"dataframe\">\n",
       "  <thead>\n",
       "    <tr>\n",
       "      <th></th>\n",
       "      <th>model</th>\n",
       "      <th>wprf</th>\n",
       "      <th>prf</th>\n",
       "      <th>wprf</th>\n",
       "      <th>prf</th>\n",
       "    </tr>\n",
       "    <tr>\n",
       "      <th></th>\n",
       "      <th>range</th>\n",
       "      <th>narrow</th>\n",
       "      <th>narrow</th>\n",
       "      <th>wide</th>\n",
       "      <th>wide</th>\n",
       "    </tr>\n",
       "    <tr>\n",
       "      <th></th>\n",
       "      <th>parameter</th>\n",
       "      <th>cvr2</th>\n",
       "      <th>cvr2</th>\n",
       "      <th>cvr2</th>\n",
       "      <th>cvr2</th>\n",
       "    </tr>\n",
       "    <tr>\n",
       "      <th></th>\n",
       "      <th>subject</th>\n",
       "      <th></th>\n",
       "      <th></th>\n",
       "      <th></th>\n",
       "      <th></th>\n",
       "    </tr>\n",
       "  </thead>\n",
       "  <tbody>\n",
       "    <tr>\n",
       "      <th>0</th>\n",
       "      <th>08</th>\n",
       "      <td>-0.039580</td>\n",
       "      <td>-0.073602</td>\n",
       "      <td>-0.034785</td>\n",
       "      <td>0.012760</td>\n",
       "    </tr>\n",
       "    <tr>\n",
       "      <th>2</th>\n",
       "      <th>05</th>\n",
       "      <td>0.001665</td>\n",
       "      <td>-0.004926</td>\n",
       "      <td>-0.034265</td>\n",
       "      <td>-0.055010</td>\n",
       "    </tr>\n",
       "    <tr>\n",
       "      <th rowspan=\"3\" valign=\"top\">3</th>\n",
       "      <th>03</th>\n",
       "      <td>0.002893</td>\n",
       "      <td>0.000973</td>\n",
       "      <td>-0.047710</td>\n",
       "      <td>-0.069523</td>\n",
       "    </tr>\n",
       "    <tr>\n",
       "      <th>08</th>\n",
       "      <td>-0.032464</td>\n",
       "      <td>-0.052839</td>\n",
       "      <td>-0.055253</td>\n",
       "      <td>0.026423</td>\n",
       "    </tr>\n",
       "    <tr>\n",
       "      <th>09</th>\n",
       "      <td>0.012368</td>\n",
       "      <td>0.001930</td>\n",
       "      <td>-0.029129</td>\n",
       "      <td>-0.085448</td>\n",
       "    </tr>\n",
       "    <tr>\n",
       "      <th>...</th>\n",
       "      <th>...</th>\n",
       "      <td>...</td>\n",
       "      <td>...</td>\n",
       "      <td>...</td>\n",
       "      <td>...</td>\n",
       "    </tr>\n",
       "    <tr>\n",
       "      <th>872</th>\n",
       "      <th>07</th>\n",
       "      <td>0.015306</td>\n",
       "      <td>0.018243</td>\n",
       "      <td>-0.062828</td>\n",
       "      <td>-0.082775</td>\n",
       "    </tr>\n",
       "    <tr>\n",
       "      <th>874</th>\n",
       "      <th>07</th>\n",
       "      <td>0.023969</td>\n",
       "      <td>0.007427</td>\n",
       "      <td>0.002050</td>\n",
       "      <td>-0.008718</td>\n",
       "    </tr>\n",
       "    <tr>\n",
       "      <th>875</th>\n",
       "      <th>07</th>\n",
       "      <td>0.013766</td>\n",
       "      <td>-0.005647</td>\n",
       "      <td>-0.025992</td>\n",
       "      <td>-0.025853</td>\n",
       "    </tr>\n",
       "    <tr>\n",
       "      <th>879</th>\n",
       "      <th>07</th>\n",
       "      <td>-0.043169</td>\n",
       "      <td>0.015758</td>\n",
       "      <td>-0.055461</td>\n",
       "      <td>-0.076851</td>\n",
       "    </tr>\n",
       "    <tr>\n",
       "      <th>889</th>\n",
       "      <th>07</th>\n",
       "      <td>0.063107</td>\n",
       "      <td>0.058679</td>\n",
       "      <td>0.007009</td>\n",
       "      <td>-0.018913</td>\n",
       "    </tr>\n",
       "  </tbody>\n",
       "</table>\n",
       "<p>1622 rows × 4 columns</p>\n",
       "</div>"
      ],
      "text/plain": [
       "model            wprf       prf      wprf       prf\n",
       "range          narrow    narrow      wide      wide\n",
       "parameter        cvr2      cvr2      cvr2      cvr2\n",
       "    subject                                        \n",
       "0   08      -0.039580 -0.073602 -0.034785  0.012760\n",
       "2   05       0.001665 -0.004926 -0.034265 -0.055010\n",
       "3   03       0.002893  0.000973 -0.047710 -0.069523\n",
       "    08      -0.032464 -0.052839 -0.055253  0.026423\n",
       "    09       0.012368  0.001930 -0.029129 -0.085448\n",
       "...               ...       ...       ...       ...\n",
       "872 07       0.015306  0.018243 -0.062828 -0.082775\n",
       "874 07       0.023969  0.007427  0.002050 -0.008718\n",
       "875 07       0.013766 -0.005647 -0.025992 -0.025853\n",
       "879 07      -0.043169  0.015758 -0.055461 -0.076851\n",
       "889 07       0.063107  0.058679  0.007009 -0.018913\n",
       "\n",
       "[1622 rows x 4 columns]"
      ]
     },
     "execution_count": 41,
     "metadata": {},
     "output_type": "execute_result"
    }
   ],
   "source": [
    "tmp"
   ]
  },
  {
   "cell_type": "code",
   "execution_count": 42,
   "metadata": {},
   "outputs": [
    {
     "data": {
      "text/plain": [
       "<seaborn.axisgrid.FacetGrid at 0x178137340>"
      ]
     },
     "execution_count": 42,
     "metadata": {},
     "output_type": "execute_result"
    },
    {
     "data": {
      "image/png": "[encoded data removed]",
      "text/plain": [
       "<Figure size 500x500 with 1 Axes>"
      ]
     },
     "metadata": {},
     "output_type": "display_data"
    }
   ],
   "source": [
    "import seaborn as sns\n",
    "sns.catplot(x='model', y='cvr2', data=tmp.stack([0,1]).groupby(['subject', 'model']).mean().reset_index())"
   ]
  },
  {
   "cell_type": "code",
   "execution_count": 43,
   "metadata": {},
   "outputs": [
    {
     "data": {
      "text/plain": [
       "<seaborn.axisgrid.FacetGrid at 0x17801f820>"
      ]
     },
     "execution_count": 43,
     "metadata": {},
     "output_type": "execute_result"
    },
    {
     "data": {
      "image/png": "[encoded data removed]",
      "text/plain": [
       "<Figure size 500x500 with 1 Axes>"
      ]
     },
     "metadata": {},
     "output_type": "display_data"
    }
   ],
   "source": [
    "import seaborn as sns\n",
    "import matplotlib.pyplot as plt\n",
    "sns.catplot(x='model', y='cvr2', data=(tmp > 0.0).stack([0,1]).groupby(['subject', 'model']).mean().reset_index())\n",
    "\n",
    "# plt.axhline(0.5, c='k', ls='--')"
   ]
  },
  {
   "cell_type": "code",
   "execution_count": 48,
   "metadata": {},
   "outputs": [
    {
     "data": {
      "text/html": [
       "<div>\n",
       "<style scoped>\n",
       "    .dataframe tbody tr th:only-of-type {\n",
       "        vertical-align: middle;\n",
       "    }\n",
       "\n",
       "    .dataframe tbody tr th {\n",
       "        vertical-align: top;\n",
       "    }\n",
       "\n",
       "    .dataframe thead tr th {\n",
       "        text-align: left;\n",
       "    }\n",
       "\n",
       "    .dataframe thead tr:last-of-type th {\n",
       "        text-align: right;\n",
       "    }\n",
       "</style>\n",
       "<table border=\"1\" class=\"dataframe\">\n",
       "  <thead>\n",
       "    <tr>\n",
       "      <th></th>\n",
       "      <th>model</th>\n",
       "      <th>wprf</th>\n",
       "      <th>prf</th>\n",
       "      <th>wprf</th>\n",
       "      <th>prf</th>\n",
       "    </tr>\n",
       "    <tr>\n",
       "      <th></th>\n",
       "      <th>range</th>\n",
       "      <th>narrow</th>\n",
       "      <th>narrow</th>\n",
       "      <th>wide</th>\n",
       "      <th>wide</th>\n",
       "    </tr>\n",
       "    <tr>\n",
       "      <th></th>\n",
       "      <th>parameter</th>\n",
       "      <th>cvr2</th>\n",
       "      <th>cvr2</th>\n",
       "      <th>cvr2</th>\n",
       "      <th>cvr2</th>\n",
       "    </tr>\n",
       "    <tr>\n",
       "      <th>model</th>\n",
       "      <th>range</th>\n",
       "      <th></th>\n",
       "      <th></th>\n",
       "      <th></th>\n",
       "      <th></th>\n",
       "    </tr>\n",
       "  </thead>\n",
       "  <tbody>\n",
       "    <tr>\n",
       "      <th rowspan=\"2\" valign=\"top\">prf</th>\n",
       "      <th>narrow</th>\n",
       "      <td>0.577243</td>\n",
       "      <td>1.000000</td>\n",
       "      <td>-0.222813</td>\n",
       "      <td>-0.304169</td>\n",
       "    </tr>\n",
       "    <tr>\n",
       "      <th>wide</th>\n",
       "      <td>-0.271339</td>\n",
       "      <td>-0.304169</td>\n",
       "      <td>0.482457</td>\n",
       "      <td>1.000000</td>\n",
       "    </tr>\n",
       "    <tr>\n",
       "      <th rowspan=\"2\" valign=\"top\">wprf</th>\n",
       "      <th>narrow</th>\n",
       "      <td>1.000000</td>\n",
       "      <td>0.577243</td>\n",
       "      <td>-0.151068</td>\n",
       "      <td>-0.271339</td>\n",
       "    </tr>\n",
       "    <tr>\n",
       "      <th>wide</th>\n",
       "      <td>-0.151068</td>\n",
       "      <td>-0.222813</td>\n",
       "      <td>1.000000</td>\n",
       "      <td>0.482457</td>\n",
       "    </tr>\n",
       "  </tbody>\n",
       "</table>\n",
       "</div>"
      ],
      "text/plain": [
       "model             wprf       prf      wprf       prf\n",
       "range           narrow    narrow      wide      wide\n",
       "parameter         cvr2      cvr2      cvr2      cvr2\n",
       "model range                                         \n",
       "prf   narrow  0.577243  1.000000 -0.222813 -0.304169\n",
       "      wide   -0.271339 -0.304169  0.482457  1.000000\n",
       "wprf  narrow  1.000000  0.577243 -0.151068 -0.271339\n",
       "      wide   -0.151068 -0.222813  1.000000  0.482457"
      ]
     },
     "execution_count": 48,
     "metadata": {},
     "output_type": "execute_result"
    }
   ],
   "source": [
    "tmp.groupby(['subject']).corr().groupby(['model', 'range']).mean()"
   ]
  },
  {
   "cell_type": "code",
   "execution_count": null,
   "metadata": {},
   "outputs": [],
   "source": []
  }
 ],
 "metadata": {
  "kernelspec": {
   "display_name": "base",
   "language": "python",
   "name": "python3"
  },
  "language_info": {
   "codemirror_mode": {
    "name": "ipython",
    "version": 3
   },
   "file_extension": ".py",
   "mimetype": "text/x-python",
   "name": "python",
   "nbconvert_exporter": "python",
   "pygments_lexer": "ipython3",
   "version": "3.10.9"
  }
 },
 "nbformat": 4,
 "nbformat_minor": 2
}
