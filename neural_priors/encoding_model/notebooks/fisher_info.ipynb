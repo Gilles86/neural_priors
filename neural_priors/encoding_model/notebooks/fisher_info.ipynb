{
 "cells": [
  {
   "cell_type": "code",
   "execution_count": 8,
   "metadata": {},
   "outputs": [],
   "source": [
    "from neural_priors.utils.data import Subject\n",
    "import pandas as pd\n",
    "from braincoder.utils import get_rsq"
   ]
  },
  {
   "cell_type": "code",
   "execution_count": 2,
   "metadata": {},
   "outputs": [],
   "source": [
    "subject = '04'\n",
    "smoothed = True\n",
    "\n",
    "sub = Subject(subject)\n",
    "\n",
    "prf_pars_wide = sub.get_prf_parameters_volume(session=None, smoothed=smoothed, gaussian=True, roi='NPCr',\n",
    "                                         cross_validated=False, range_n='wide')\n",
    "prf_pars_narrow = sub.get_prf_parameters_volume(session=None, smoothed=smoothed, gaussian=True, roi='NPCr',\n",
    "                                            cross_validated=False, range_n='narrow')\n",
    "\n",
    "prf_pars = pd.concat((prf_pars_wide, prf_pars_narrow), axis=0,\n",
    "                     keys=['wide', 'narrow'], names=['range_n'])\n",
    "\n",
    "mask = (prf_pars.unstack(-1)['cvr2'].T > 0.0).any(axis=1)"
   ]
  },
  {
   "cell_type": "code",
   "execution_count": 3,
   "metadata": {},
   "outputs": [],
   "source": [
    "data = sub.get_single_trial_estimates(session=None, smoothed=smoothed, roi='NPCr',)\n",
    "behavior = sub.get_behavioral_data(session=None).set_index('range', append=True)"
   ]
  },
  {
   "cell_type": "code",
   "execution_count": 4,
   "metadata": {},
   "outputs": [],
   "source": [
    "data = pd.DataFrame(data, index=behavior.index)\n",
    "data = data.loc[:, mask]"
   ]
  },
  {
   "cell_type": "code",
   "execution_count": 5,
   "metadata": {},
   "outputs": [],
   "source": [
    "from braincoder.models import GaussianPRF\n",
    "from braincoder.optimize import ParameterFitter\n",
    "import numpy as np"
   ]
  },
  {
   "cell_type": "code",
   "execution_count": 6,
   "metadata": {},
   "outputs": [],
   "source": [
    "modes = np.linspace(1, 50, 100, dtype=np.float32)\n",
    "sigmas = np.linspace(1, 60, 100, dtype=np.float32) / 2.35\n",
    "amplitudes = np.array([1.], dtype=np.float32)\n",
    "baselines = np.array([0], dtype=np.float32)"
   ]
  },
  {
   "cell_type": "code",
   "execution_count": 9,
   "metadata": {},
   "outputs": [
    {
     "name": "stdout",
     "output_type": "stream",
     "text": [
      "Working with chunk size of 13164\n",
      "Using correlation cost!\n"
     ]
    },
    {
     "data": {
      "application/vnd.jupyter.widget-view+json": {
       "model_id": "6a23a31095bf45948951e068bad5e91f",
       "version_major": 2,
       "version_minor": 0
      },
      "text/plain": [
       "  0%|          | 0/1 [00:00<?, ?it/s]"
      ]
     },
     "metadata": {},
     "output_type": "display_data"
    },
    {
     "name": "stdout",
     "output_type": "stream",
     "text": [
      "*** Only fitting: ***\n",
      " * amplitude\n",
      " * baseline\n",
      "Number of problematic voxels (mask): 0\n",
      "Number of voxels remaining (mask): 211\n"
     ]
    },
    {
     "data": {
      "application/vnd.jupyter.widget-view+json": {
       "model_id": "fdea65d182e543d0952b79295abd2b8f",
       "version_major": 2,
       "version_minor": 0
      },
      "text/plain": [
       "  0%|          | 0/10000 [00:00<?, ?it/s]"
      ]
     },
     "metadata": {},
     "output_type": "display_data"
    },
    {
     "name": "stdout",
     "output_type": "stream",
     "text": [
      "Number of problematic voxels (mask): 0\n",
      "Number of voxels remaining (mask): 211\n"
     ]
    },
    {
     "data": {
      "application/vnd.jupyter.widget-view+json": {
       "model_id": "4e0a5cc9d0984aefbbbb6f0a59b271fd",
       "version_major": 2,
       "version_minor": 0
      },
      "text/plain": [
       "  0%|          | 0/10000 [00:00<?, ?it/s]"
      ]
     },
     "metadata": {},
     "output_type": "display_data"
    },
    {
     "data": {
      "text/html": [
       "<div>\n",
       "<style scoped>\n",
       "    .dataframe tbody tr th:only-of-type {\n",
       "        vertical-align: middle;\n",
       "    }\n",
       "\n",
       "    .dataframe tbody tr th {\n",
       "        vertical-align: top;\n",
       "    }\n",
       "\n",
       "    .dataframe thead th {\n",
       "        text-align: right;\n",
       "    }\n",
       "</style>\n",
       "<table border=\"1\" class=\"dataframe\">\n",
       "  <thead>\n",
       "    <tr style=\"text-align: right;\">\n",
       "      <th>parameter</th>\n",
       "      <th>mu</th>\n",
       "      <th>sd</th>\n",
       "      <th>amplitude</th>\n",
       "      <th>baseline</th>\n",
       "    </tr>\n",
       "    <tr>\n",
       "      <th>source</th>\n",
       "      <th></th>\n",
       "      <th></th>\n",
       "      <th></th>\n",
       "      <th></th>\n",
       "    </tr>\n",
       "  </thead>\n",
       "  <tbody>\n",
       "    <tr>\n",
       "      <th>8</th>\n",
       "      <td>14.835676</td>\n",
       "      <td>7.369807</td>\n",
       "      <td>0.217200</td>\n",
       "      <td>0.000849</td>\n",
       "    </tr>\n",
       "    <tr>\n",
       "      <th>10</th>\n",
       "      <td>-2.660884</td>\n",
       "      <td>15.008098</td>\n",
       "      <td>0.426552</td>\n",
       "      <td>-0.182840</td>\n",
       "    </tr>\n",
       "    <tr>\n",
       "      <th>12</th>\n",
       "      <td>12.060912</td>\n",
       "      <td>4.631630</td>\n",
       "      <td>0.303740</td>\n",
       "      <td>-0.100405</td>\n",
       "    </tr>\n",
       "    <tr>\n",
       "      <th>13</th>\n",
       "      <td>0.588679</td>\n",
       "      <td>14.096952</td>\n",
       "      <td>0.876056</td>\n",
       "      <td>-0.200444</td>\n",
       "    </tr>\n",
       "    <tr>\n",
       "      <th>15</th>\n",
       "      <td>-1.002965</td>\n",
       "      <td>13.444472</td>\n",
       "      <td>0.658228</td>\n",
       "      <td>-0.171571</td>\n",
       "    </tr>\n",
       "    <tr>\n",
       "      <th>...</th>\n",
       "      <td>...</td>\n",
       "      <td>...</td>\n",
       "      <td>...</td>\n",
       "      <td>...</td>\n",
       "    </tr>\n",
       "    <tr>\n",
       "      <th>709</th>\n",
       "      <td>11.620286</td>\n",
       "      <td>1.421596</td>\n",
       "      <td>0.361391</td>\n",
       "      <td>0.029679</td>\n",
       "    </tr>\n",
       "    <tr>\n",
       "      <th>713</th>\n",
       "      <td>11.555078</td>\n",
       "      <td>1.323222</td>\n",
       "      <td>0.401174</td>\n",
       "      <td>0.071685</td>\n",
       "    </tr>\n",
       "    <tr>\n",
       "      <th>720</th>\n",
       "      <td>13.875682</td>\n",
       "      <td>0.973021</td>\n",
       "      <td>0.583623</td>\n",
       "      <td>0.207324</td>\n",
       "    </tr>\n",
       "    <tr>\n",
       "      <th>729</th>\n",
       "      <td>11.344063</td>\n",
       "      <td>1.915873</td>\n",
       "      <td>0.275547</td>\n",
       "      <td>0.009194</td>\n",
       "    </tr>\n",
       "    <tr>\n",
       "      <th>732</th>\n",
       "      <td>11.190881</td>\n",
       "      <td>1.880369</td>\n",
       "      <td>0.324449</td>\n",
       "      <td>0.019702</td>\n",
       "    </tr>\n",
       "  </tbody>\n",
       "</table>\n",
       "<p>211 rows × 4 columns</p>\n",
       "</div>"
      ],
      "text/plain": [
       "parameter         mu         sd  amplitude  baseline\n",
       "source                                              \n",
       "8          14.835676   7.369807   0.217200  0.000849\n",
       "10         -2.660884  15.008098   0.426552 -0.182840\n",
       "12         12.060912   4.631630   0.303740 -0.100405\n",
       "13          0.588679  14.096952   0.876056 -0.200444\n",
       "15         -1.002965  13.444472   0.658228 -0.171571\n",
       "...              ...        ...        ...       ...\n",
       "709        11.620286   1.421596   0.361391  0.029679\n",
       "713        11.555078   1.323222   0.401174  0.071685\n",
       "720        13.875682   0.973021   0.583623  0.207324\n",
       "729        11.344063   1.915873   0.275547  0.009194\n",
       "732        11.190881   1.880369   0.324449  0.019702\n",
       "\n",
       "[211 rows x 4 columns]"
      ]
     },
     "execution_count": 9,
     "metadata": {},
     "output_type": "execute_result"
    }
   ],
   "source": [
    "\n",
    "condition = 'wide'\n",
    "\n",
    "paradigm = behavior.xs(condition, level='range').astype(np.float32)[['n']]\n",
    "\n",
    "model = GaussianPRF()\n",
    "\n",
    "optimizer = ParameterFitter(model, data.xs(condition, level='range').astype(np.float32), paradigm.astype(np.float32))\n",
    "\n",
    "grid_parameters = optimizer.fit_grid(modes, sigmas, amplitudes, baselines, use_correlation_cost=True)\n",
    "\n",
    "pred = model.predict(paradigm, grid_parameters)\n",
    "r2 = get_rsq(data.xs(condition, level='range').astype(np.float32), pred)\n",
    "\n",
    "\n",
    "optimizer.fit(init_pars=grid_parameters, learning_rate=.05, store_intermediate_parameters=False, max_n_iterations=10000,\n",
    "        fixed_pars=['mu', 'sd'],\n",
    "    r2_atol=0.00001)\n",
    "\n",
    "optimizer.fit(init_pars=optimizer.estimated_parameters, learning_rate=.005, store_intermediate_parameters=False, max_n_iterations=10000,\n",
    "    min_n_iterations=1000,\n",
    "    r2_atol=0.00001)"
   ]
  },
  {
   "cell_type": "code",
   "execution_count": 15,
   "metadata": {},
   "outputs": [],
   "source": [
    "from braincoder.optimize import ResidualFitter"
   ]
  },
  {
   "cell_type": "code",
   "execution_count": 20,
   "metadata": {},
   "outputs": [
    {
     "name": "stdout",
     "output_type": "stream",
     "text": [
      "init_tau: 0.30135685205459595, 1.0296251773834229\n",
      "USING A PSEUDO-WWT!\n",
      "WWT max: 53.06509017944336\n"
     ]
    },
    {
     "data": {
      "application/vnd.jupyter.widget-view+json": {
       "model_id": "0d0d836eb7ff4f65894be451821c9a08",
       "version_major": 2,
       "version_minor": 0
      },
      "text/plain": [
       "  0%|          | 0/1000 [00:00<?, ?it/s]"
      ]
     },
     "metadata": {},
     "output_type": "display_data"
    }
   ],
   "source": [
    "stimulus_range = np.arange(10, 40.5, 0.5, dtype=np.float32)\n",
    "model.init_pseudoWWT(stimulus_range, optimizer.estimated_parameters)\n",
    "resid_fitter = ResidualFitter(model, data.xs(condition, level='range').astype(np.float32), paradigm.astype(np.float32), parameters=optimizer.estimated_parameters)\n",
    "\n",
    "omega, dof = resid_fitter.fit()"
   ]
  },
  {
   "cell_type": "code",
   "execution_count": 21,
   "metadata": {},
   "outputs": [],
   "source": [
    "fisher_information = model.get_fisher_information(stimulus_range, omega, dof)"
   ]
  },
  {
   "cell_type": "code",
   "execution_count": 34,
   "metadata": {},
   "outputs": [],
   "source": [
    "for key in resid_fitter.fitted_omega_parameters.keys():\n",
    "\n",
    "    if key == 'tau':\n",
    "        p = pd.Series(resid_fitter.fitted_omega_parameters[key][0], name=key)\n",
    "    else:\n",
    "        p =pd.Series([resid_fitter.fitted_omega_parameters[key]], name=key)\n",
    "\n",
    "    p.to_csv()"
   ]
  },
  {
   "cell_type": "code",
   "execution_count": 23,
   "metadata": {},
   "outputs": [
    {
     "data": {
      "text/plain": [
       "<Axes: xlabel='stimulus'>"
      ]
     },
     "execution_count": 23,
     "metadata": {},
     "output_type": "execute_result"
    },
    {
     "data": {
      "image/png": "[encoded data removed]",
      "text/plain": [
       "<Figure size 640x480 with 1 Axes>"
      ]
     },
     "metadata": {},
     "output_type": "display_data"
    }
   ],
   "source": [
    "fisher_information.plot()"
   ]
  },
  {
   "cell_type": "code",
   "execution_count": 24,
   "metadata": {},
   "outputs": [
    {
     "data": {
      "text/plain": [
       "array([[ 0.51407874,  0.0192326 ,  0.09382778, ...,  0.39760953,\n",
       "         0.13134259,  0.14594442],\n",
       "       [ 0.0192326 ,  0.27714717,  0.1449848 , ..., -0.13763638,\n",
       "         0.04874998,  0.03972684],\n",
       "       [ 0.09382778,  0.1449848 ,  0.24290548, ...,  0.06583408,\n",
       "         0.09608401,  0.09957915],\n",
       "       ...,\n",
       "       [ 0.39760953, -0.13763638,  0.06583408, ...,  1.1523646 ,\n",
       "         0.21009591,  0.24962911],\n",
       "       [ 0.13134259,  0.04874998,  0.09608401, ...,  0.21009591,\n",
       "         0.32880738,  0.14256664],\n",
       "       [ 0.14594443,  0.03972683,  0.09957915, ...,  0.24962911,\n",
       "         0.14256664,  0.28944045]], dtype=float32)"
      ]
     },
     "execution_count": 24,
     "metadata": {},
     "output_type": "execute_result"
    }
   ],
   "source": [
    "omega"
   ]
  },
  {
   "cell_type": "code",
   "execution_count": null,
   "metadata": {},
   "outputs": [],
   "source": []
  }
 ],
 "metadata": {
  "kernelspec": {
   "display_name": "base",
   "language": "python",
   "name": "python3"
  },
  "language_info": {
   "codemirror_mode": {
    "name": "ipython",
    "version": 3
   },
   "file_extension": ".py",
   "mimetype": "text/x-python",
   "name": "python",
   "nbconvert_exporter": "python",
   "pygments_lexer": "ipython3",
   "version": "3.10.9"
  }
 },
 "nbformat": 4,
 "nbformat_minor": 2
}
