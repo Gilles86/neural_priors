{
 "cells": [
  {
   "cell_type": "code",
   "execution_count": 9,
   "metadata": {},
   "outputs": [],
   "source": [
    "import glob\n",
    "import shutil\n",
    "import os\n",
    "import os.path as op"
   ]
  },
  {
   "cell_type": "code",
   "execution_count": 12,
   "metadata": {},
   "outputs": [
    {
     "name": "stdout",
     "output_type": "stream",
     "text": [
      "Copying /data/ds-neuralpriors/sourcedata/behavior/sub-42/ses-2/sub-42_ses-2_task-estimation_task_run-3_events.tsv to /data/ds-neuralpriors/sourcedata/behavior/sub-31/ses-2/sub-31_ses-2_task-estimation_task_run-3_events.tsv\n",
      "Copying /data/ds-neuralpriors/sourcedata/behavior/sub-42/ses-2/sub-42_ses-2_task-estimation_task_run-6.edf to /data/ds-neuralpriors/sourcedata/behavior/sub-31/ses-2/sub-31_ses-2_task-estimation_task_run-6.edf\n",
      "Copying /data/ds-neuralpriors/sourcedata/behavior/sub-42/ses-2/sub-42_ses-2_task-estimation_task_run-7_expsettings.yml to /data/ds-neuralpriors/sourcedata/behavior/sub-31/ses-2/sub-31_ses-2_task-estimation_task_run-7_expsettings.yml\n",
      "Copying /data/ds-neuralpriors/sourcedata/behavior/sub-42/ses-2/sub-42_ses-2_task-examples_run-5_frames.pdf to /data/ds-neuralpriors/sourcedata/behavior/sub-31/ses-2/sub-31_ses-2_task-examples_run-5_frames.pdf\n",
      "Copying /data/ds-neuralpriors/sourcedata/behavior/sub-42/ses-2/sub-42_ses-2_task-estimation_task_run-7.edf to /data/ds-neuralpriors/sourcedata/behavior/sub-31/ses-2/sub-31_ses-2_task-estimation_task_run-7.edf\n",
      "Copying /data/ds-neuralpriors/sourcedata/behavior/sub-42/ses-2/sub-42_ses-2_task-estimation_task_run-5.edf to /data/ds-neuralpriors/sourcedata/behavior/sub-31/ses-2/sub-31_ses-2_task-estimation_task_run-5.edf\n",
      "Copying /data/ds-neuralpriors/sourcedata/behavior/sub-42/ses-2/sub-42_ses-2_task-estimation_task_run-8_expsettings.yml to /data/ds-neuralpriors/sourcedata/behavior/sub-31/ses-2/sub-31_ses-2_task-estimation_task_run-8_expsettings.yml\n",
      "Copying /data/ds-neuralpriors/sourcedata/behavior/sub-42/ses-2/sub-42_ses-2_task-estimation_task_run-4.edf to /data/ds-neuralpriors/sourcedata/behavior/sub-31/ses-2/sub-31_ses-2_task-estimation_task_run-4.edf\n",
      "Copying /data/ds-neuralpriors/sourcedata/behavior/sub-42/ses-2/sub-42_ses-2_task-estimation_task_run-8_log.txt to /data/ds-neuralpriors/sourcedata/behavior/sub-31/ses-2/sub-31_ses-2_task-estimation_task_run-8_log.txt\n",
      "Copying /data/ds-neuralpriors/sourcedata/behavior/sub-42/ses-2/sub-42_ses-2_task-examples_run-5_log.txt to /data/ds-neuralpriors/sourcedata/behavior/sub-31/ses-2/sub-31_ses-2_task-examples_run-5_log.txt\n",
      "Copying /data/ds-neuralpriors/sourcedata/behavior/sub-42/ses-2/sub-42_ses-2_task-feedback_run-5_events.tsv to /data/ds-neuralpriors/sourcedata/behavior/sub-31/ses-2/sub-31_ses-2_task-feedback_run-5_events.tsv\n",
      "Copying /data/ds-neuralpriors/sourcedata/behavior/sub-42/ses-2/sub-42_ses-2_task-estimation_task_run-5_frames.pdf to /data/ds-neuralpriors/sourcedata/behavior/sub-31/ses-2/sub-31_ses-2_task-estimation_task_run-5_frames.pdf\n",
      "Copying /data/ds-neuralpriors/sourcedata/behavior/sub-42/ses-2/sub-42_ses-2_task-estimation_task_run-1.edf to /data/ds-neuralpriors/sourcedata/behavior/sub-31/ses-2/sub-31_ses-2_task-estimation_task_run-1.edf\n",
      "Copying /data/ds-neuralpriors/sourcedata/behavior/sub-42/ses-2/sub-42_ses-2_task-estimation_task_run-8_frames.pdf to /data/ds-neuralpriors/sourcedata/behavior/sub-31/ses-2/sub-31_ses-2_task-estimation_task_run-8_frames.pdf\n",
      "Copying /data/ds-neuralpriors/sourcedata/behavior/sub-42/ses-2/sub-42_ses-2_task-estimation_task_run-3.edf to /data/ds-neuralpriors/sourcedata/behavior/sub-31/ses-2/sub-31_ses-2_task-estimation_task_run-3.edf\n",
      "Copying /data/ds-neuralpriors/sourcedata/behavior/sub-42/ses-2/sub-42_ses-2_task-estimation_task_run-1_log.txt to /data/ds-neuralpriors/sourcedata/behavior/sub-31/ses-2/sub-31_ses-2_task-estimation_task_run-1_log.txt\n",
      "Copying /data/ds-neuralpriors/sourcedata/behavior/sub-42/ses-2/sub-42_ses-2_task-estimation_task_run-6_events.tsv to /data/ds-neuralpriors/sourcedata/behavior/sub-31/ses-2/sub-31_ses-2_task-estimation_task_run-6_events.tsv\n",
      "Copying /data/ds-neuralpriors/sourcedata/behavior/sub-42/ses-2/sub-42_ses-2_task-feedback_run-1_log.txt to /data/ds-neuralpriors/sourcedata/behavior/sub-31/ses-2/sub-31_ses-2_task-feedback_run-1_log.txt\n",
      "Copying /data/ds-neuralpriors/sourcedata/behavior/sub-42/ses-2/sub-42_ses-2_task-score_events.tsv to /data/ds-neuralpriors/sourcedata/behavior/sub-31/ses-2/sub-31_ses-2_task-score_events.tsv\n",
      "Copying /data/ds-neuralpriors/sourcedata/behavior/sub-42/ses-2/sub-42_ses-2_task-estimation_task_run-2.edf to /data/ds-neuralpriors/sourcedata/behavior/sub-31/ses-2/sub-31_ses-2_task-estimation_task_run-2.edf\n",
      "Copying /data/ds-neuralpriors/sourcedata/behavior/sub-42/ses-2/sub-42_ses-2_task-examples_run-5_expsettings.yml to /data/ds-neuralpriors/sourcedata/behavior/sub-31/ses-2/sub-31_ses-2_task-examples_run-5_expsettings.yml\n",
      "Copying /data/ds-neuralpriors/sourcedata/behavior/sub-42/ses-2/sub-42_ses-2_task-examples_run-1.edf to /data/ds-neuralpriors/sourcedata/behavior/sub-31/ses-2/sub-31_ses-2_task-examples_run-1.edf\n",
      "Copying /data/ds-neuralpriors/sourcedata/behavior/sub-42/ses-2/sub-42_ses-2_task-feedback_run-1_frames.pdf to /data/ds-neuralpriors/sourcedata/behavior/sub-31/ses-2/sub-31_ses-2_task-feedback_run-1_frames.pdf\n",
      "Copying /data/ds-neuralpriors/sourcedata/behavior/sub-42/ses-2/sub-42_ses-2_task-estimation_task_run-1_events.tsv to /data/ds-neuralpriors/sourcedata/behavior/sub-31/ses-2/sub-31_ses-2_task-estimation_task_run-1_events.tsv\n",
      "Copying /data/ds-neuralpriors/sourcedata/behavior/sub-42/ses-2/sub-42_ses-2_task-estimation_task_run-3_log.txt to /data/ds-neuralpriors/sourcedata/behavior/sub-31/ses-2/sub-31_ses-2_task-estimation_task_run-3_log.txt\n",
      "Copying /data/ds-neuralpriors/sourcedata/behavior/sub-42/ses-2/sub-42_ses-2_task-estimation_task_run-1_expsettings.yml to /data/ds-neuralpriors/sourcedata/behavior/sub-31/ses-2/sub-31_ses-2_task-estimation_task_run-1_expsettings.yml\n",
      "Copying /data/ds-neuralpriors/sourcedata/behavior/sub-42/ses-2/sub-42_ses-2_task-estimation_task_run-2_frames.pdf to /data/ds-neuralpriors/sourcedata/behavior/sub-31/ses-2/sub-31_ses-2_task-estimation_task_run-2_frames.pdf\n",
      "Copying /data/ds-neuralpriors/sourcedata/behavior/sub-42/ses-2/sub-42_ses-2_task-estimation_task_run-2_log.txt to /data/ds-neuralpriors/sourcedata/behavior/sub-31/ses-2/sub-31_ses-2_task-estimation_task_run-2_log.txt\n",
      "Copying /data/ds-neuralpriors/sourcedata/behavior/sub-42/ses-2/sub-42_ses-2_task-estimation_task_run-6_expsettings.yml to /data/ds-neuralpriors/sourcedata/behavior/sub-31/ses-2/sub-31_ses-2_task-estimation_task_run-6_expsettings.yml\n",
      "Copying /data/ds-neuralpriors/sourcedata/behavior/sub-42/ses-2/sub-42_ses-2_task-score.edf to /data/ds-neuralpriors/sourcedata/behavior/sub-31/ses-2/sub-31_ses-2_task-score.edf\n",
      "Copying /data/ds-neuralpriors/sourcedata/behavior/sub-42/ses-2/sub-42_ses-2_task-feedback_run-1_expsettings.yml to /data/ds-neuralpriors/sourcedata/behavior/sub-31/ses-2/sub-31_ses-2_task-feedback_run-1_expsettings.yml\n",
      "Copying /data/ds-neuralpriors/sourcedata/behavior/sub-42/ses-2/sub-42_ses-2_task-examples_run-1_events.tsv to /data/ds-neuralpriors/sourcedata/behavior/sub-31/ses-2/sub-31_ses-2_task-examples_run-1_events.tsv\n",
      "Copying /data/ds-neuralpriors/sourcedata/behavior/sub-42/ses-2/sub-42_ses-2_task-estimation_task_run-7_frames.pdf to /data/ds-neuralpriors/sourcedata/behavior/sub-31/ses-2/sub-31_ses-2_task-estimation_task_run-7_frames.pdf\n",
      "Copying /data/ds-neuralpriors/sourcedata/behavior/sub-42/ses-2/sub-42_ses-2_task-examples_run-5.edf to /data/ds-neuralpriors/sourcedata/behavior/sub-31/ses-2/sub-31_ses-2_task-examples_run-5.edf\n",
      "Copying /data/ds-neuralpriors/sourcedata/behavior/sub-42/ses-2/sub-42_ses-2_task-estimation_task_run-4_events.tsv to /data/ds-neuralpriors/sourcedata/behavior/sub-31/ses-2/sub-31_ses-2_task-estimation_task_run-4_events.tsv\n",
      "Copying /data/ds-neuralpriors/sourcedata/behavior/sub-42/ses-2/sub-42_ses-2_task-estimation_task_run-4_frames.pdf to /data/ds-neuralpriors/sourcedata/behavior/sub-31/ses-2/sub-31_ses-2_task-estimation_task_run-4_frames.pdf\n",
      "Copying /data/ds-neuralpriors/sourcedata/behavior/sub-42/ses-2/sub-42_ses-2_task-estimation_task_run-3_expsettings.yml to /data/ds-neuralpriors/sourcedata/behavior/sub-31/ses-2/sub-31_ses-2_task-estimation_task_run-3_expsettings.yml\n",
      "Copying /data/ds-neuralpriors/sourcedata/behavior/sub-42/ses-2/sub-42_ses-2_task-examples_run-1_frames.pdf to /data/ds-neuralpriors/sourcedata/behavior/sub-31/ses-2/sub-31_ses-2_task-examples_run-1_frames.pdf\n",
      "Copying /data/ds-neuralpriors/sourcedata/behavior/sub-42/ses-2/sub-42_ses-2_task-estimation_task_run-7_events.tsv to /data/ds-neuralpriors/sourcedata/behavior/sub-31/ses-2/sub-31_ses-2_task-estimation_task_run-7_events.tsv\n",
      "Copying /data/ds-neuralpriors/sourcedata/behavior/sub-42/ses-2/sub-42_ses-2_task-feedback_run-1.edf to /data/ds-neuralpriors/sourcedata/behavior/sub-31/ses-2/sub-31_ses-2_task-feedback_run-1.edf\n",
      "Copying /data/ds-neuralpriors/sourcedata/behavior/sub-42/ses-2/sub-42_ses-2_task-estimation_task_run-7_log.txt to /data/ds-neuralpriors/sourcedata/behavior/sub-31/ses-2/sub-31_ses-2_task-estimation_task_run-7_log.txt\n",
      "Copying /data/ds-neuralpriors/sourcedata/behavior/sub-42/ses-2/sub-42_ses-2_task-estimation_task_run-2_events.tsv to /data/ds-neuralpriors/sourcedata/behavior/sub-31/ses-2/sub-31_ses-2_task-estimation_task_run-2_events.tsv\n",
      "Copying /data/ds-neuralpriors/sourcedata/behavior/sub-42/ses-2/sub-42_ses-2_task-estimation_task_run-6_log.txt to /data/ds-neuralpriors/sourcedata/behavior/sub-31/ses-2/sub-31_ses-2_task-estimation_task_run-6_log.txt\n",
      "Copying /data/ds-neuralpriors/sourcedata/behavior/sub-42/ses-2/sub-42_ses-2_task-feedback_run-5.edf to /data/ds-neuralpriors/sourcedata/behavior/sub-31/ses-2/sub-31_ses-2_task-feedback_run-5.edf\n",
      "Copying /data/ds-neuralpriors/sourcedata/behavior/sub-42/ses-2/sub-42_ses-2_task-estimation_task_run-4_expsettings.yml to /data/ds-neuralpriors/sourcedata/behavior/sub-31/ses-2/sub-31_ses-2_task-estimation_task_run-4_expsettings.yml\n",
      "Copying /data/ds-neuralpriors/sourcedata/behavior/sub-42/ses-2/sub-42_ses-2_task-feedback_run-1_events.tsv to /data/ds-neuralpriors/sourcedata/behavior/sub-31/ses-2/sub-31_ses-2_task-feedback_run-1_events.tsv\n",
      "Copying /data/ds-neuralpriors/sourcedata/behavior/sub-42/ses-2/sub-42_ses-2_task-estimation_task_run-1_frames.pdf to /data/ds-neuralpriors/sourcedata/behavior/sub-31/ses-2/sub-31_ses-2_task-estimation_task_run-1_frames.pdf\n",
      "Copying /data/ds-neuralpriors/sourcedata/behavior/sub-42/ses-2/sub-42_ses-2_task-score_log.txt to /data/ds-neuralpriors/sourcedata/behavior/sub-31/ses-2/sub-31_ses-2_task-score_log.txt\n",
      "Copying /data/ds-neuralpriors/sourcedata/behavior/sub-42/ses-2/sub-42_ses-2_task-score_frames.pdf to /data/ds-neuralpriors/sourcedata/behavior/sub-31/ses-2/sub-31_ses-2_task-score_frames.pdf\n",
      "Copying /data/ds-neuralpriors/sourcedata/behavior/sub-42/ses-2/sub-42_ses-2_task-estimation_task_run-6_frames.pdf to /data/ds-neuralpriors/sourcedata/behavior/sub-31/ses-2/sub-31_ses-2_task-estimation_task_run-6_frames.pdf\n",
      "Copying /data/ds-neuralpriors/sourcedata/behavior/sub-42/ses-2/sub-42_ses-2_task-estimation_task_run-5_expsettings.yml to /data/ds-neuralpriors/sourcedata/behavior/sub-31/ses-2/sub-31_ses-2_task-estimation_task_run-5_expsettings.yml\n",
      "Copying /data/ds-neuralpriors/sourcedata/behavior/sub-42/ses-2/sub-42_ses-2_task-estimation_task_run-4_log.txt to /data/ds-neuralpriors/sourcedata/behavior/sub-31/ses-2/sub-31_ses-2_task-estimation_task_run-4_log.txt\n",
      "Copying /data/ds-neuralpriors/sourcedata/behavior/sub-42/ses-2/sub-42_ses-2_task-estimation_task_run-8_events.tsv to /data/ds-neuralpriors/sourcedata/behavior/sub-31/ses-2/sub-31_ses-2_task-estimation_task_run-8_events.tsv\n",
      "Copying /data/ds-neuralpriors/sourcedata/behavior/sub-42/ses-2/sub-42_ses-2_task-examples_run-1_expsettings.yml to /data/ds-neuralpriors/sourcedata/behavior/sub-31/ses-2/sub-31_ses-2_task-examples_run-1_expsettings.yml\n",
      "Copying /data/ds-neuralpriors/sourcedata/behavior/sub-42/ses-2/sub-42_ses-2_task-feedback_run-5_frames.pdf to /data/ds-neuralpriors/sourcedata/behavior/sub-31/ses-2/sub-31_ses-2_task-feedback_run-5_frames.pdf\n",
      "Copying /data/ds-neuralpriors/sourcedata/behavior/sub-42/ses-2/sub-42_ses-2_task-estimation_task_run-5_events.tsv to /data/ds-neuralpriors/sourcedata/behavior/sub-31/ses-2/sub-31_ses-2_task-estimation_task_run-5_events.tsv\n",
      "Copying /data/ds-neuralpriors/sourcedata/behavior/sub-42/ses-2/sub-42_ses-2_task-examples_run-1_log.txt to /data/ds-neuralpriors/sourcedata/behavior/sub-31/ses-2/sub-31_ses-2_task-examples_run-1_log.txt\n",
      "Copying /data/ds-neuralpriors/sourcedata/behavior/sub-42/ses-2/sub-42_ses-2_task-estimation_task_run-8.edf to /data/ds-neuralpriors/sourcedata/behavior/sub-31/ses-2/sub-31_ses-2_task-estimation_task_run-8.edf\n",
      "Copying /data/ds-neuralpriors/sourcedata/behavior/sub-42/ses-2/sub-42_ses-2_task-feedback_run-5_log.txt to /data/ds-neuralpriors/sourcedata/behavior/sub-31/ses-2/sub-31_ses-2_task-feedback_run-5_log.txt\n",
      "Copying /data/ds-neuralpriors/sourcedata/behavior/sub-42/ses-2/sub-42_ses-2_task-estimation_task_run-2_expsettings.yml to /data/ds-neuralpriors/sourcedata/behavior/sub-31/ses-2/sub-31_ses-2_task-estimation_task_run-2_expsettings.yml\n",
      "Copying /data/ds-neuralpriors/sourcedata/behavior/sub-42/ses-2/sub-42_ses-2_task-score_expsettings.yml to /data/ds-neuralpriors/sourcedata/behavior/sub-31/ses-2/sub-31_ses-2_task-score_expsettings.yml\n",
      "Copying /data/ds-neuralpriors/sourcedata/behavior/sub-42/ses-2/sub-42_ses-2_task-feedback_run-5_expsettings.yml to /data/ds-neuralpriors/sourcedata/behavior/sub-31/ses-2/sub-31_ses-2_task-feedback_run-5_expsettings.yml\n",
      "Copying /data/ds-neuralpriors/sourcedata/behavior/sub-42/ses-2/sub-42_ses-2_task-estimation_task_run-5_log.txt to /data/ds-neuralpriors/sourcedata/behavior/sub-31/ses-2/sub-31_ses-2_task-estimation_task_run-5_log.txt\n",
      "Copying /data/ds-neuralpriors/sourcedata/behavior/sub-42/ses-2/sub-42_ses-2_task-estimation_task_run-3_frames.pdf to /data/ds-neuralpriors/sourcedata/behavior/sub-31/ses-2/sub-31_ses-2_task-estimation_task_run-3_frames.pdf\n",
      "Copying /data/ds-neuralpriors/sourcedata/behavior/sub-42/ses-2/sub-42_ses-2_task-examples_run-5_events.tsv to /data/ds-neuralpriors/sourcedata/behavior/sub-31/ses-2/sub-31_ses-2_task-examples_run-5_events.tsv\n"
     ]
    }
   ],
   "source": [
    "for fn in glob.glob('/data/ds-neuralpriors/sourcedata/behavior/sub-42/ses-2/*'):\n",
    "\n",
    "    # replace sub-42 with sub-31, then copy the file from /data/ds-neuralpriors/sourcedata/behavior/sub-42/ses-2\n",
    "    # to /data/ds-neuralpriors/sourcedata/behavior/sub-31/ses-2\n",
    "    new_fn = fn.replace('sub-42', 'sub-31')\n",
    "    target_dir = '/data/ds-neuralpriors/sourcedata/behavior/sub-31/ses-2'\n",
    "\n",
    "    os.makedirs(op.dirname(target_dir), exist_ok=True)\n",
    "\n",
    "    # split_new fn into directory and filename\n",
    "    _, new_fn = op.split(new_fn)\n",
    "\n",
    "    print(f'Copying {fn} to {op.join(target_dir, new_fn)}')\n",
    "    shutil.copy(fn, op.join(target_dir, new_fn))"
   ]
  },
  {
   "cell_type": "code",
   "execution_count": null,
   "metadata": {},
   "outputs": [],
   "source": []
  }
 ],
 "metadata": {
  "kernelspec": {
   "display_name": "base",
   "language": "python",
   "name": "python3"
  },
  "language_info": {
   "codemirror_mode": {
    "name": "ipython",
    "version": 3
   },
   "file_extension": ".py",
   "mimetype": "text/x-python",
   "name": "python",
   "nbconvert_exporter": "python",
   "pygments_lexer": "ipython3",
   "version": "3.10.9"
  }
 },
 "nbformat": 4,
 "nbformat_minor": 2
}
