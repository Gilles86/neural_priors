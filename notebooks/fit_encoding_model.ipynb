{
 "cells": [
  {
   "cell_type": "code",
   "execution_count": 92,
   "metadata": {},
   "outputs": [],
   "source": [
    "from neural_priors.utils.data import Subject"
   ]
  },
  {
   "cell_type": "code",
   "execution_count": 93,
   "metadata": {},
   "outputs": [],
   "source": [
    "sub = Subject('alina')"
   ]
  },
  {
   "cell_type": "code",
   "execution_count": 94,
   "metadata": {},
   "outputs": [],
   "source": [
    "paradigm = sub.get_behavioral_data(tasks=['estimation_task', ])['n']"
   ]
  },
  {
   "cell_type": "code",
   "execution_count": 98,
   "metadata": {},
   "outputs": [],
   "source": [
    "    paradigm = sub.get_behavioral_data(tasks=['estimation_task', ])['n'].droplevel(['subject', 'task', -1])"
   ]
  },
  {
   "cell_type": "code",
   "execution_count": 99,
   "metadata": {},
   "outputs": [
    {
     "data": {
      "text/plain": [
       "run\n",
       "1    19.0\n",
       "1    18.0\n",
       "1    13.0\n",
       "1    18.0\n",
       "1    20.0\n",
       "     ... \n",
       "8    19.0\n",
       "8    38.0\n",
       "8    37.0\n",
       "8    13.0\n",
       "8    17.0\n",
       "Name: n, Length: 240, dtype: float64"
      ]
     },
     "execution_count": 99,
     "metadata": {},
     "output_type": "execute_result"
    }
   ],
   "source": [
    "paradigm"
   ]
  },
  {
   "cell_type": "code",
   "execution_count": 87,
   "metadata": {},
   "outputs": [
    {
     "data": {
      "text/plain": [
       "<nibabel.nifti1.Nifti1Image at 0x2dc251510>"
      ]
     },
     "execution_count": 87,
     "metadata": {},
     "output_type": "execute_result"
    }
   ],
   "source": [
    "sub.get_single_trial_estimates(1, smoothed=False)"
   ]
  },
  {
   "cell_type": "code",
   "execution_count": 8,
   "metadata": {},
   "outputs": [],
   "source": [
    "masker = sub.get_brain_mask()\n",
    "\n",
    "data = masker.fit_transform(sub.get_single_trial_estimates(1, smoothed=True))"
   ]
  },
  {
   "cell_type": "code",
   "execution_count": 24,
   "metadata": {},
   "outputs": [],
   "source": [
    "paradigm = sub.get_behavioral_data(tasks=['estimation_task', ])['n'].xs(slice(2, None), 0, 'run')"
   ]
  },
  {
   "cell_type": "code",
   "execution_count": 25,
   "metadata": {},
   "outputs": [],
   "source": [
    "from braincoder.models import LogGaussianPRF\n",
    "\n",
    "from braincoder.optimize import ParameterFitter\n",
    "import numpy as np"
   ]
  },
  {
   "cell_type": "code",
   "execution_count": 26,
   "metadata": {},
   "outputs": [],
   "source": [
    "model = LogGaussianPRF()"
   ]
  },
  {
   "cell_type": "code",
   "execution_count": 47,
   "metadata": {},
   "outputs": [],
   "source": [
    "mus = np.linspace(5, 80, 30, dtype=np.float32)\n",
    "sds = np.linspace(5, 40, 30, dtype=np.float32)\n",
    "amplitudes = np.array([1.], dtype=np.float32)\n",
    "baselines = np.array([0], dtype=np.float32)"
   ]
  },
  {
   "cell_type": "code",
   "execution_count": 48,
   "metadata": {},
   "outputs": [
    {
     "name": "stdout",
     "output_type": "stream",
     "text": [
      "Working with chunk size of 43\n",
      "Using correlation cost!\n"
     ]
    },
    {
     "data": {
      "application/vnd.jupyter.widget-view+json": {
       "model_id": "b89a8059015c46cc9fc997068b9e9de4",
       "version_major": 2,
       "version_minor": 0
      },
      "text/plain": [
       "  0%|          | 0/21 [00:00<?, ?it/s]"
      ]
     },
     "metadata": {},
     "output_type": "display_data"
    },
    {
     "name": "stderr",
     "output_type": "stream",
     "text": [
      "/Users/gdehol/git/braincoder/braincoder/optimize.py:409: FutureWarning: Setting an item of incompatible dtype is deprecated and will raise in a future error of pandas. Value '[0.11227126 0.21337952 0.14855257 ... 0.08069745 0.26990339 0.33748597]' has dtype incompatible with float32, please explicitly cast to a compatible dtype first.\n",
      "  parameters.loc[ix] = new_parameters.loc[ix]\n"
     ]
    }
   ],
   "source": [
    "optimizer = ParameterFitter(model, data, paradigm.values)\n",
    "\n",
    "grid_parameters = optimizer.fit_grid(mus, sds, amplitudes, baselines, use_correlation_cost=True)\n",
    "grid_parameters = optimizer.refine_baseline_and_amplitude(grid_parameters, n_iterations=5)\n",
    "\n"
   ]
  },
  {
   "cell_type": "code",
   "execution_count": 49,
   "metadata": {},
   "outputs": [],
   "source": [
    "from braincoder.utils import get_rsq"
   ]
  },
  {
   "cell_type": "code",
   "execution_count": 50,
   "metadata": {},
   "outputs": [],
   "source": [
    "pred = model.predict(paradigm, grid_parameters)\n",
    "r2 = get_rsq(data, pred)"
   ]
  },
  {
   "cell_type": "code",
   "execution_count": 51,
   "metadata": {},
   "outputs": [
    {
     "name": "stdout",
     "output_type": "stream",
     "text": [
      "Number of problematic voxels (mask): 0\n",
      "Number of voxels remaining (mask): 73075\n"
     ]
    },
    {
     "data": {
      "application/vnd.jupyter.widget-view+json": {
       "model_id": "dd90f03d14d345d2874db18e587244f7",
       "version_major": 2,
       "version_minor": 0
      },
      "text/plain": [
       "  0%|          | 0/10000 [00:00<?, ?it/s]"
      ]
     },
     "metadata": {},
     "output_type": "display_data"
    },
    {
     "data": {
      "text/html": [
       "<div>\n",
       "<style scoped>\n",
       "    .dataframe tbody tr th:only-of-type {\n",
       "        vertical-align: middle;\n",
       "    }\n",
       "\n",
       "    .dataframe tbody tr th {\n",
       "        vertical-align: top;\n",
       "    }\n",
       "\n",
       "    .dataframe thead th {\n",
       "        text-align: right;\n",
       "    }\n",
       "</style>\n",
       "<table border=\"1\" class=\"dataframe\">\n",
       "  <thead>\n",
       "    <tr style=\"text-align: right;\">\n",
       "      <th>parameter</th>\n",
       "      <th>mu</th>\n",
       "      <th>sd</th>\n",
       "      <th>amplitude</th>\n",
       "      <th>baseline</th>\n",
       "    </tr>\n",
       "    <tr>\n",
       "      <th>unit</th>\n",
       "      <th></th>\n",
       "      <th></th>\n",
       "      <th></th>\n",
       "      <th></th>\n",
       "    </tr>\n",
       "  </thead>\n",
       "  <tbody>\n",
       "    <tr>\n",
       "      <th>0</th>\n",
       "      <td>74.827583</td>\n",
       "      <td>5.000000</td>\n",
       "      <td>1.000000</td>\n",
       "      <td>0.171211</td>\n",
       "    </tr>\n",
       "    <tr>\n",
       "      <th>1</th>\n",
       "      <td>15.269423</td>\n",
       "      <td>2.008309</td>\n",
       "      <td>0.180916</td>\n",
       "      <td>-0.206955</td>\n",
       "    </tr>\n",
       "    <tr>\n",
       "      <th>2</th>\n",
       "      <td>74.827583</td>\n",
       "      <td>5.000000</td>\n",
       "      <td>1.000000</td>\n",
       "      <td>-0.125421</td>\n",
       "    </tr>\n",
       "    <tr>\n",
       "      <th>3</th>\n",
       "      <td>80.000000</td>\n",
       "      <td>5.000000</td>\n",
       "      <td>1.000000</td>\n",
       "      <td>0.090708</td>\n",
       "    </tr>\n",
       "    <tr>\n",
       "      <th>4</th>\n",
       "      <td>74.827583</td>\n",
       "      <td>5.000000</td>\n",
       "      <td>1.000000</td>\n",
       "      <td>0.280670</td>\n",
       "    </tr>\n",
       "    <tr>\n",
       "      <th>...</th>\n",
       "      <td>...</td>\n",
       "      <td>...</td>\n",
       "      <td>...</td>\n",
       "      <td>...</td>\n",
       "    </tr>\n",
       "    <tr>\n",
       "      <th>73070</th>\n",
       "      <td>39.467846</td>\n",
       "      <td>43.400696</td>\n",
       "      <td>0.418447</td>\n",
       "      <td>-0.318628</td>\n",
       "    </tr>\n",
       "    <tr>\n",
       "      <th>73071</th>\n",
       "      <td>38.167004</td>\n",
       "      <td>44.495880</td>\n",
       "      <td>0.723971</td>\n",
       "      <td>-0.896099</td>\n",
       "    </tr>\n",
       "    <tr>\n",
       "      <th>73072</th>\n",
       "      <td>74.827583</td>\n",
       "      <td>5.000000</td>\n",
       "      <td>1.000000</td>\n",
       "      <td>-0.132050</td>\n",
       "    </tr>\n",
       "    <tr>\n",
       "      <th>73073</th>\n",
       "      <td>74.827583</td>\n",
       "      <td>5.000000</td>\n",
       "      <td>1.000000</td>\n",
       "      <td>0.282056</td>\n",
       "    </tr>\n",
       "    <tr>\n",
       "      <th>73074</th>\n",
       "      <td>74.827583</td>\n",
       "      <td>5.000000</td>\n",
       "      <td>1.000000</td>\n",
       "      <td>0.412565</td>\n",
       "    </tr>\n",
       "  </tbody>\n",
       "</table>\n",
       "<p>73075 rows × 4 columns</p>\n",
       "</div>"
      ],
      "text/plain": [
       "parameter         mu         sd  amplitude  baseline\n",
       "unit                                                \n",
       "0          74.827583   5.000000   1.000000  0.171211\n",
       "1          15.269423   2.008309   0.180916 -0.206955\n",
       "2          74.827583   5.000000   1.000000 -0.125421\n",
       "3          80.000000   5.000000   1.000000  0.090708\n",
       "4          74.827583   5.000000   1.000000  0.280670\n",
       "...              ...        ...        ...       ...\n",
       "73070      39.467846  43.400696   0.418447 -0.318628\n",
       "73071      38.167004  44.495880   0.723971 -0.896099\n",
       "73072      74.827583   5.000000   1.000000 -0.132050\n",
       "73073      74.827583   5.000000   1.000000  0.282056\n",
       "73074      74.827583   5.000000   1.000000  0.412565\n",
       "\n",
       "[73075 rows x 4 columns]"
      ]
     },
     "execution_count": 51,
     "metadata": {},
     "output_type": "execute_result"
    }
   ],
   "source": [
    "optimizer.fit(init_pars=grid_parameters, learning_rate=.05, store_intermediate_parameters=False, max_n_iterations=10000,\n",
    "        r2_atol=0.00001)\n"
   ]
  },
  {
   "cell_type": "code",
   "execution_count": 54,
   "metadata": {},
   "outputs": [],
   "source": [
    "masker.inverse_transform(optimizer.r2).to_filename('/Users/gdehol/Downloads/r2.nii.gz')"
   ]
  },
  {
   "cell_type": "code",
   "execution_count": 60,
   "metadata": {},
   "outputs": [],
   "source": [
    "masker.inverse_transform(optimizer.estimated_parameters['mu']).to_filename('/Users/gdehol/Downloads/mu.nii.gz')"
   ]
  },
  {
   "cell_type": "code",
   "execution_count": 44,
   "metadata": {},
   "outputs": [
    {
     "name": "stdout",
     "output_type": "stream",
     "text": [
      "Unexpected exception formatting exception. Falling back to standard exception\n"
     ]
    },
    {
     "name": "stderr",
     "output_type": "stream",
     "text": [
      "/var/folders/d4/cpqhwlbn301clph1qk64k01nmjkty3/T/ipykernel_52644/3267112612.py:3: UserWarning: \n",
      "\n",
      "`distplot` is a deprecated function and will be removed in seaborn v0.14.0.\n",
      "\n",
      "Please adapt your code to use either `displot` (a figure-level function with\n",
      "similar flexibility) or `histplot` (an axes-level function for histograms).\n",
      "\n",
      "For a guide to updating your code to use the new functions, please see\n",
      "https://gist.github.com/mwaskom/de44147ed2974457ad6372750bbe5751\n",
      "\n",
      "  sns.distplot(r2)\n",
      "/Users/gdehol/mambaforge/lib/python3.10/site-packages/numpy/lib/function_base.py:4655: RuntimeWarning: invalid value encountered in subtract\n",
      "  diff_b_a = subtract(b, a)\n",
      "Traceback (most recent call last):\n",
      "  File \"/Users/gdehol/mambaforge/lib/python3.10/site-packages/IPython/core/interactiveshell.py\", line 3460, in run_code\n",
      "    exec(code_obj, self.user_global_ns, self.user_ns)\n",
      "  File \"/var/folders/d4/cpqhwlbn301clph1qk64k01nmjkty3/T/ipykernel_52644/3267112612.py\", line 3, in <module>\n",
      "    sns.distplot(r2)\n",
      "  File \"/Users/gdehol/mambaforge/lib/python3.10/site-packages/seaborn/distributions.py\", line 2481, in distplot\n",
      "    bins = min(_freedman_diaconis_bins(a), 50)\n",
      "  File \"/Users/gdehol/mambaforge/lib/python3.10/site-packages/seaborn/distributions.py\", line 2387, in _freedman_diaconis_bins\n",
      "    return int(np.ceil((a.max() - a.min()) / h))\n",
      "ValueError: cannot convert float NaN to integer\n",
      "\n",
      "During handling of the above exception, another exception occurred:\n",
      "\n",
      "Traceback (most recent call last):\n",
      "  File \"/Users/gdehol/mambaforge/lib/python3.10/site-packages/IPython/core/interactiveshell.py\", line 2057, in showtraceback\n",
      "    stb = self.InteractiveTB.structured_traceback(\n",
      "  File \"/Users/gdehol/mambaforge/lib/python3.10/site-packages/IPython/core/ultratb.py\", line 1118, in structured_traceback\n",
      "    return FormattedTB.structured_traceback(\n",
      "  File \"/Users/gdehol/mambaforge/lib/python3.10/site-packages/IPython/core/ultratb.py\", line 1012, in structured_traceback\n",
      "    return VerboseTB.structured_traceback(\n",
      "  File \"/Users/gdehol/mambaforge/lib/python3.10/site-packages/IPython/core/ultratb.py\", line 865, in structured_traceback\n",
      "    formatted_exception = self.format_exception_as_a_whole(etype, evalue, etb, number_of_lines_of_context,\n",
      "  File \"/Users/gdehol/mambaforge/lib/python3.10/site-packages/IPython/core/ultratb.py\", line 799, in format_exception_as_a_whole\n",
      "    self.get_records(etb, number_of_lines_of_context, tb_offset) if etb else []\n",
      "  File \"/Users/gdehol/mambaforge/lib/python3.10/site-packages/IPython/core/ultratb.py\", line 845, in get_records\n",
      "    style = stack_data.style_with_executing_node(style, self._tb_highlight)\n",
      "  File \"/Users/gdehol/mambaforge/lib/python3.10/site-packages/stack_data/core.py\", line 455, in style_with_executing_node\n",
      "    class NewStyle(style):\n",
      "  File \"/Users/gdehol/mambaforge/lib/python3.10/site-packages/pygments/style.py\", line 66, in __new__\n",
      "    ndef[4] = colorformat(styledef[3:])\n",
      "  File \"/Users/gdehol/mambaforge/lib/python3.10/site-packages/pygments/style.py\", line 33, in colorformat\n",
      "    assert False, \"wrong color format %r\" % text\n",
      "AssertionError: wrong color format 'ansiyellow'\n"
     ]
    },
    {
     "data": {
      "image/png": "[encoded data removed]",
      "text/plain": [
       "<Figure size 640x480 with 1 Axes>"
      ]
     },
     "metadata": {},
     "output_type": "display_data"
    }
   ],
   "source": [
    "import seaborn as sns\n",
    "\n",
    "sns.distplot(r2)"
   ]
  },
  {
   "cell_type": "code",
   "execution_count": 8,
   "metadata": {},
   "outputs": [
    {
     "name": "stdout",
     "output_type": "stream",
     "text": [
      "TYPED_FITHRF_GLMDENOISE_RR.npy\n",
      "sub-alina_ses-1_task-task_space-T1w_desc-R2.nii.gz\n",
      "sub-alina_ses-1_task-task_space-T1w_desc-response_pe.nii.gz\n",
      "sub-alina_ses-1_task-task_space-T1w_desc-stim_pe.nii.gz\n"
     ]
    }
   ],
   "source": [
    "!ls /data/ds-neuralpriors/derivatives/glm_stim1.denoise.smoothed/sub-alina/ses-1/func/"
   ]
  },
  {
   "cell_type": "code",
   "execution_count": null,
   "metadata": {},
   "outputs": [],
   "source": []
  }
 ],
 "metadata": {
  "kernelspec": {
   "display_name": "base",
   "language": "python",
   "name": "python3"
  },
  "language_info": {
   "codemirror_mode": {
    "name": "ipython",
    "version": 3
   },
   "file_extension": ".py",
   "mimetype": "text/x-python",
   "name": "python",
   "nbconvert_exporter": "python",
   "pygments_lexer": "ipython3",
   "version": "3.10.9"
  }
 },
 "nbformat": 4,
 "nbformat_minor": 2
}
