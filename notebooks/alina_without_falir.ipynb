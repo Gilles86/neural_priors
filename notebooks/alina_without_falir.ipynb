{
 "cells": [
  {
   "cell_type": "code",
   "execution_count": 1,
   "metadata": {},
   "outputs": [],
   "source": [
    "import glob as glob"
   ]
  },
  {
   "cell_type": "code",
   "execution_count": 2,
   "metadata": {},
   "outputs": [],
   "source": [
    "import os\n",
    "import glob\n",
    "\n",
    "# Define the root directory\n",
    "root_dir = '/Users/gdehol/data/ds-neuralpriors/sub-alina2'\n",
    "\n",
    "# Loop through all subdirectories and files\n",
    "for dirpath, dirnames, filenames in os.walk(root_dir):\n",
    "    for filename in filenames:\n",
    "        # Check if the substring 'sub-alina_' exists in the filename\n",
    "        if 'sub-alina_' in filename:\n",
    "            # Replace the substring with 'sub-alina2_'\n",
    "            new_filename = filename.replace('sub-alina_', 'sub-alina2_')\n",
    "            # Get the full path of the file\n",
    "            file_path = os.path.join(dirpath, filename)\n",
    "            new_file_path = os.path.join(dirpath, new_filename)\n",
    "            # Rename the file\n",
    "            os.rename(file_path, new_file_path)\n"
   ]
  },
  {
   "cell_type": "code",
   "execution_count": null,
   "metadata": {},
   "outputs": [],
   "source": []
  }
 ],
 "metadata": {
  "kernelspec": {
   "display_name": "base",
   "language": "python",
   "name": "python3"
  },
  "language_info": {
   "codemirror_mode": {
    "name": "ipython",
    "version": 3
   },
   "file_extension": ".py",
   "mimetype": "text/x-python",
   "name": "python",
   "nbconvert_exporter": "python",
   "pygments_lexer": "ipython3",
   "version": "3.10.9"
  }
 },
 "nbformat": 4,
 "nbformat_minor": 2
}
